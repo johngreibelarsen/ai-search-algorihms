{
 "cells": [
  {
   "cell_type": "markdown",
   "metadata": {
    "graffitiCellId": "id_qfx0fir"
   },
   "source": [
    "# Graph Depth-First Search With Recursion"
   ]
  },
  {
   "cell_type": "markdown",
   "metadata": {
    "graffitiCellId": "id_dccwaz9"
   },
   "source": [
    "We've done depth-first search previously using an iterative approach (i.e., using a loop). In this notebook, we'll show how to implement a recursive soluton.\n",
    "\n",
    "The basic idea is to select a node and explore all the possible paths from that node, and to apply this recursively to each node we are exploring.\n",
    "\n",
    "You can see some helpful illustrations with various combinations here: https://www.cs.usfca.edu/~galles/visualization/DFS.html"
   ]
  },
  {
   "cell_type": "code",
   "execution_count": 2,
   "metadata": {
    "graffitiCellId": "id_g8yswc8"
   },
   "outputs": [],
   "source": [
    "# Class Node representation.\n",
    "class Node:\n",
    "    def __init__(self,val):\n",
    "        self.value = val\n",
    "        self.children = []\n",
    "        \n",
    "    def add_child(self,new_node):\n",
    "        self.children.append(new_node)\n",
    "    \n",
    "    def remove_child(self,del_node):\n",
    "        if del_node in self.children:\n",
    "            self.children.remove(del_node)\n",
    "\n",
    "class Graph():\n",
    "    def __init__(self,node_list):\n",
    "        self.nodes = node_list\n",
    "        \n",
    "    def add_edge(self,node1,node2):\n",
    "        if(node1 in self.nodes and node2 in self.nodes):\n",
    "            node1.add_child(node2)\n",
    "            node2.add_child(node1)\n",
    "            \n",
    "    def remove_edge(self,node1,node2):\n",
    "        if(node1 in self.nodes and node2 in self.nodes):\n",
    "            node1.remove_child(node2)\n",
    "            node2.remove_child(node1)"
   ]
  },
  {
   "cell_type": "markdown",
   "metadata": {
    "graffitiCellId": "id_8yd5g3t"
   },
   "source": [
    "### Initializing Graph with an example"
   ]
  },
  {
   "cell_type": "markdown",
   "metadata": {
    "graffitiCellId": "id_gcu50h2"
   },
   "source": [
    "![title](assets/graphs.jpg)\n",
    "Consider the above graph structure. The following code initializes all the edges according to the above structure."
   ]
  },
  {
   "cell_type": "code",
   "execution_count": 3,
   "metadata": {
    "graffitiCellId": "id_l75ft9n"
   },
   "outputs": [],
   "source": [
    "# Creating a graph as above.\n",
    "nodeG = Node('G')\n",
    "nodeR = Node('R')\n",
    "nodeA = Node('A')\n",
    "nodeP = Node('P')\n",
    "nodeH = Node('H')\n",
    "nodeS = Node('S')\n",
    "\n",
    "graph1 = Graph([nodeS,nodeH,nodeG,nodeP,nodeR,nodeA] ) \n",
    "\n",
    "graph1.add_edge(nodeG,nodeR)\n",
    "graph1.add_edge(nodeA,nodeR)\n",
    "graph1.add_edge(nodeA,nodeG)\n",
    "graph1.add_edge(nodeR,nodeP)\n",
    "graph1.add_edge(nodeH,nodeG)\n",
    "graph1.add_edge(nodeH,nodeP)\n",
    "graph1.add_edge(nodeS,nodeR)"
   ]
  },
  {
   "cell_type": "code",
   "execution_count": 4,
   "metadata": {
    "graffitiCellId": "id_j63zvsw"
   },
   "outputs": [
    {
     "name": "stdout",
     "output_type": "stream",
     "text": [
      "parent node =  S\n",
      "children\n",
      "R \n",
      "\n",
      "parent node =  H\n",
      "children\n",
      "G P \n",
      "\n",
      "parent node =  G\n",
      "children\n",
      "R A H \n",
      "\n",
      "parent node =  P\n",
      "children\n",
      "R H \n",
      "\n",
      "parent node =  R\n",
      "children\n",
      "G A P S \n",
      "\n",
      "parent node =  A\n",
      "children\n",
      "R G \n",
      "\n"
     ]
    }
   ],
   "source": [
    "# To verify that the graph is created accurately.\n",
    "# Let's just print all the parent nodes and child nodes.\n",
    "for each in graph1.nodes:\n",
    "    print('parent node = ',each.value,end='\\nchildren\\n')\n",
    "    for each in each.children:\n",
    "        print(each.value,end=' ')\n",
    "    print('\\n')"
   ]
  },
  {
   "cell_type": "markdown",
   "metadata": {
    "graffitiCellId": "id_bweutr7"
   },
   "source": [
    "### Sample input and output \n",
    "\n",
    "The output would vary based on the implementation of your algorithm, the order in which children are stored within the adjacency list."
   ]
  },
  {
   "cell_type": "markdown",
   "metadata": {
    "graffitiCellId": "id_mqzklsq"
   },
   "source": [
    "### DFS using recursion\n",
    "Now that we have our example graph initialized, we are ready to do the actual depth-first search. Here's what that looks like:"
   ]
  },
  {
   "cell_type": "markdown",
   "metadata": {
    "graffitiCellId": "id_6gazu4v"
   },
   "source": [
    "<span class=\"graffiti-highlight graffiti-id_6gazu4v-id_urjcr3u\"><i></i><button>Hide Solution</button></span>"
   ]
  },
  {
   "cell_type": "code",
   "execution_count": 46,
   "metadata": {
    "graffitiCellId": "id_urjcr3u"
   },
   "outputs": [],
   "source": [
    "# Solution\n",
    "def dfs_recursion_start(start_node, search_value):\n",
    "    visited = set()               # Set to keep track of visited nodes.\n",
    "    return dfs_recursion(start_node, visited, search_value)\n",
    "\n",
    "# Recursive function\n",
    "def dfs_recursion(node, visited, search_value):\n",
    "    if node.value == search_value: return node\n",
    "    \n",
    "    visited.add(node)\n",
    "    result = None\n",
    "    for child in node.children:\n",
    "        if (child not in visited):\n",
    "                result = dfs_recursion(child, visited, search_value)\n",
    "    return result"
   ]
  },
  {
   "cell_type": "code",
   "execution_count": 47,
   "metadata": {
    "graffitiCellId": "id_1hnatw7"
   },
   "outputs": [],
   "source": [
    "assert nodeA == dfs_recursion_start(nodeG, 'A')\n",
    "assert nodeA == dfs_recursion_start(nodeS, 'A')\n",
    "assert nodeS == dfs_recursion_start(nodeP, 'S')\n",
    "assert nodeR == dfs_recursion_start(nodeH, 'R')"
   ]
  }
 ],
 "metadata": {
  "graffiti": {
   "firstAuthorId": "10694620118",
   "id": "id_hv4tail",
   "language": "EN"
  },
  "kernelspec": {
   "display_name": "Python 3",
   "language": "python",
   "name": "python3"
  },
  "language_info": {
   "codemirror_mode": {
    "name": "ipython",
    "version": 3
   },
   "file_extension": ".py",
   "mimetype": "text/x-python",
   "name": "python",
   "nbconvert_exporter": "python",
   "pygments_lexer": "ipython3",
   "version": "3.6.3"
  }
 },
 "nbformat": 4,
 "nbformat_minor": 2
}
